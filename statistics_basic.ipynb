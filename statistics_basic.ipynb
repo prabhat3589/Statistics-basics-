{
  "nbformat": 4,
  "nbformat_minor": 0,
  "metadata": {
    "colab": {
      "provenance": []
    },
    "kernelspec": {
      "name": "python3",
      "display_name": "Python 3"
    },
    "language_info": {
      "name": "python"
    }
  },
  "cells": [
    {
      "cell_type": "markdown",
      "source": [
        "# Theory #"
      ],
      "metadata": {
        "id": "JjGdwuzNtceb"
      }
    },
    {
      "cell_type": "markdown",
      "source": [
        "1. What is statistics, and why is it important?\n",
        "-  Statistics is the branch of mathematics that deals with collecting,\n",
        "   organizing, analyzing, interpreting, and presenting data. It helps us make sense of large amounts of information by providing tools to describe patterns, relationships, and trends within data.\n",
        "-  Why is it important:-\n",
        "-  Informed dicision making\n",
        "-  Understanding and discribing data\n",
        "-  Predicting Future Outcomes\n",
        "-  Scientific Research\n",
        "-  Identifying Trends and Patterns\n",
        "-  Reducing Uncertainty"
      ],
      "metadata": {
        "id": "hBq0VMkbtow1"
      }
    },
    {
      "cell_type": "markdown",
      "source": [
        "2. What are the two main types of statistic?\n",
        "-  The main two types of statistics are:-\n",
        "-  Descriptive Statistics\n",
        "-  Inferential Statistics"
      ],
      "metadata": {
        "id": "fCRrywtnto_Z"
      }
    },
    {
      "cell_type": "markdown",
      "source": [
        "3. What are descriptive statistics?\n",
        "-  Descriptive statistics summarize and describe the main features of a dataset."
      ],
      "metadata": {
        "id": "yOEuNs_KtpB-"
      }
    },
    {
      "cell_type": "markdown",
      "source": [
        "4. What is inferential statistics?\n",
        "-  Inferential statistics allow you to make predictions or generalizations  \n",
        "   about a population based on a sample of data."
      ],
      "metadata": {
        "id": "86txIO84tpEk"
      }
    },
    {
      "cell_type": "markdown",
      "source": [
        "5. What is sampling in statistics?\n",
        "-  Sampling in statistics is the process of selecting a subset (called a  \n",
        "   sample) from a larger group (called a population) to analyze and draw conclusions about the whole population."
      ],
      "metadata": {
        "id": "fs5vO24UtpG-"
      }
    },
    {
      "cell_type": "markdown",
      "source": [
        "6. What are the different types of sampling methods?\n",
        "-  Simple Random Sampling:-\n",
        "-  SRS is a techinque  where every member  of the population has an equal and\n",
        "   independent chance of being selected.\n",
        "-  Stratified Sampling:-\n",
        "-  It is a probability sampling technique used in statistics and data science  \n",
        "   to ensure that subgroups (strata) of a population are fairly repersented in the sample.\n",
        "-  Systematic Sampling:-\n",
        "-  It is a probability sampling technique where select wvery kth item from a    list or ordered population , starting from a random starting point.\n",
        "-  Cluster Sampling:- It is a probability sampling technique where the entire\n",
        "   population is divided into groups called clusters , and then some clusters are randomly selected. All individuals within the chosen cluster are included in the sample."
      ],
      "metadata": {
        "id": "JbWDjdCXtpJp"
      }
    },
    {
      "cell_type": "markdown",
      "source": [
        "7. What is the difference between random and non-random sampling?\n",
        "-  Random Sampling:-\n",
        "-  Every individual has a known and equal chance of being selected.\n",
        "-  Less likely to have selection bias.\n",
        "-  More likely to be representative of the whole population.\n",
        "-  Simple random, stratified, cluster, systematic sampling.\n",
        "-  Non - random sampling:-\n",
        "-  Individuals are selected based on convenience or judgment, not chance.\n",
        "-  More prone to bias.\n",
        "-  May not represent the whole population accurately.\n",
        "-  Convenience, judgmental, quota, snowball sampling."
      ],
      "metadata": {
        "id": "U1qI9t4htpL-"
      }
    },
    {
      "cell_type": "markdown",
      "source": [
        "8.   Define and give examples of qualitative and quantitative data?\n",
        "-    Qualitative Data:-\n",
        "-    Also called categorical data, qualitative data describes qualities or\n",
        "     characteristics. It is non-numerical and cannot be measured in numbers.\n",
        "-    Nominal :- No order in categorical data naturally.\n",
        "-    Ordinal:- Order in data.\n",
        "-    Example:-  Colors, Gender, Marital status, Blood group, Rank, etc    \n",
        "-    Quantitative Data:-\n",
        "-    Quantitative data is numerical and can be measured or counted. It tells  \n",
        "     you how much, how many, or how often.\n",
        "-    Discrete: Countable numbers\n",
        "-    Continuous: Measurable quantities\n",
        "-    Example:- Age, Height, Weight, Salary,etc"
      ],
      "metadata": {
        "id": "eyMDiC8v0GDt"
      }
    },
    {
      "cell_type": "markdown",
      "source": [
        "9. What are the different types of data in statistics?\n",
        "-  Qualitative Data\n",
        "-  Quantitative Data"
      ],
      "metadata": {
        "id": "3YtF05sl0GJd"
      }
    },
    {
      "cell_type": "markdown",
      "source": [
        "10. Explain nominal, ordinal, interval, and ratio levels of measurement?\n",
        "-   Nominal:-\n",
        "-   Qualitative or categorical data.\n",
        "-   No order in the data.\n",
        "-   Cannot add, substract, average .\n",
        "-   Example:- Gender, Ethinicity, colour, etc\n",
        "-   Ordinal:-\n",
        "-   Order and rank has a meaning/matter.\n",
        "-   Difference can't be measured.\n",
        "-   The categories have a logical substraction.\n",
        "-   Difference between ranks are not neceessarily equal.\n",
        "-   Example:- Education level, Customer satisfaction, Rank,etc\n",
        "-   Interval:-\n",
        "-   The rank and order has a meaning.\n",
        "-   Difference can be measure (Exception : excluding ratio)\n",
        "-   It doesn't have compulsory 0 startup value.\n",
        "-   No ratio\n",
        "-   Example:- TEmperature in celsius or ratio , Dtes, Iq scores, etc.\n",
        "-   Ratio scale data:-\n",
        "-   Order and rank has a meaning.\n",
        "-   Difference and ratio are measrurable.\n",
        "-   It does have a 0 starting point compulsory.\n",
        "-   Example:- Height, Weight, Income,etc."
      ],
      "metadata": {
        "id": "XQPZU26V2cPC"
      }
    },
    {
      "cell_type": "markdown",
      "source": [
        "11. What is the measure of central tendency?\n",
        "-   Tell where the center of the data lies.\n",
        "-   The three main measures:-\n",
        "-   Mean , Median, Mode"
      ],
      "metadata": {
        "id": "V-g_fjqQ9BZc"
      }
    },
    {
      "cell_type": "markdown",
      "source": [
        "12. Define mean, median, and mode?\n",
        "-   These are the three main measures of Central tendency\n",
        "-   Mean:-\n",
        "-   The mean is the sum of all value of a datasets divided by the total number\n",
        "    of value.\n",
        "-   Median:-\n",
        "-   The meadian is theThe median is the middle value in an ordered dataset.\n",
        "-   If the number of values is odd, it’s the middle one.\n",
        "-   If even, it's the average of the two middle values.\n",
        "-   Mode:-\n",
        "-   The mode is the value that appears most frequently in the dataset.\n",
        "-   A dataset can have no mode, one mode, or multiple modes."
      ],
      "metadata": {
        "id": "OywS-Ruq9nW6"
      }
    },
    {
      "cell_type": "code",
      "source": [
        "#12.\n",
        "import statistics\n",
        "a = [1,2,3,3,3,4,5,5,6,7,8,9,10]\n",
        "mean = statistics.mean(a)\n",
        "median = statistics.median(a)\n",
        "mode = statistics.mode(a)\n",
        "print(\"mean:\",mean)\n",
        "print(\"median:\",median)\n",
        "print(\"mode:\",mode)"
      ],
      "metadata": {
        "colab": {
          "base_uri": "https://localhost:8080/"
        },
        "id": "q2OuvO1t-xiu",
        "outputId": "da8c00e8-1361-4f03-f8ef-d35341787de6"
      },
      "execution_count": 14,
      "outputs": [
        {
          "output_type": "stream",
          "name": "stdout",
          "text": [
            "mean: 5.076923076923077\n",
            "median: 5\n",
            "mode: 3\n"
          ]
        }
      ]
    },
    {
      "cell_type": "markdown",
      "source": [
        "13.  What is the significance of the measure of central tendency?\n",
        "-    The significance of the measure of central tendency is, it helps   \n",
        "     summarize  a large dataset with a single representative value. It gives you a sense of the \"center\" or \"typical value\" of the data.\n"
      ],
      "metadata": {
        "id": "EAUNiKbzCLLN"
      }
    },
    {
      "cell_type": "markdown",
      "source": [
        "14.  What is variance, and how is it calculated?\n",
        "-    Variance measures how much the values in a dataset differ from the mean.  \n",
        "     It tells  the spread or dispersion of the data.\n",
        "-    Calculation of Variance step by step:-\n",
        "-    Find the mean (average) of your numbers\n",
        "-    Subtract the mean from each number and square the result\n",
        "-    Sum all the squared differences\n",
        "-    Divide by n for population variance or by n-1  for sample"
      ],
      "metadata": {
        "id": "2kWFQrTrCnTV"
      }
    },
    {
      "cell_type": "markdown",
      "source": [
        "15.  What is standard deviation, and why is it important?\n",
        "-    Standard deviation is a measure of how spread out the numbers in a data  \n",
        "     set are around the mean. It’s basically the square root of the variance.\n",
        "-    Importance:-\n",
        "-    Intuitive Understanding of Spread\n",
        "-    Helps in Comparing Data Sets\n",
        "-    Critical in Statistics\n",
        "-    Identifies Outliers"
      ],
      "metadata": {
        "id": "lF8hiJPaD_YP"
      }
    },
    {
      "cell_type": "markdown",
      "source": [
        "16.  Define and explain the term range in statistics?\n",
        "-    The range is the simplest measure of spread or dispersion in a data set.  \n",
        "     It tells you how far apart the smallest and largest values are.\n",
        "-    It measures the total spread of the data.\n",
        "-    Gives a quick sense of how wide the data values stretch.\n",
        "-    It does not consider any values between the smallest and largest — only  \n",
        "     the two extremes.\n"
      ],
      "metadata": {
        "id": "WSkf8c6iEwCz"
      }
    },
    {
      "cell_type": "markdown",
      "source": [
        "17. What is the difference between variance and standard deviation?\n",
        "-   Variance:-\n",
        "-   Average of the squared differences from the mean.\n",
        "-   Squared units of the original data (e.g., if data is in meters, variance   \n",
        "    in meter's square).\n",
        "-   Measures how data points spread out by averaging squared deviations.\n",
        "-   Variance is the square of standard deviation.\n",
        "-   Standard deviation:-\n",
        "-   Square root of the variance.\n",
        "-   Same units as the original data (e.g., meters).\n",
        "-   Measures average spread of data points around the mean in original units.\n",
        "-   Standard deviation is the square root of variance."
      ],
      "metadata": {
        "id": "0ISNfqyAFJxF"
      }
    },
    {
      "cell_type": "markdown",
      "source": [
        "18. What is skewness in a dataset?\n",
        "-   Skewness measures the asymmetry of a dataset’s distribution around its mean.\n",
        "-   It tells you if the data is balanced or leaning more to one side.\n",
        "-   Skewness helps understand the shape of the data distribution."
      ],
      "metadata": {
        "id": "4E6u20SbF99w"
      }
    },
    {
      "cell_type": "markdown",
      "source": [
        "19. What does it mean if a dataset is positively or negatively skewed?\n",
        "-   Positively Skewed Dataset (Right Skew):-\n",
        "-   The tail on the right side (higher values) of the distribution is longer or\n",
        "    fatter.\n",
        "-   Most data points cluster on the left (lower values).\n",
        "-   A few unusually large values pull the mean to the right.\n",
        "-   Mean > Median > Mode\n",
        "-   Negatively skewed(Left skew):-\n",
        "-   The tail on the left side (lower values) is longer or fatter.\n",
        "-   Most data points cluster on the right (higher values).\n",
        "-   A few unusually small values pull the mean to the left.\n",
        "-   Mean < Median < Mode"
      ],
      "metadata": {
        "id": "f6MTJfMQGHc2"
      }
    },
    {
      "cell_type": "markdown",
      "source": [
        "20.  Define and explain kurtosis?\n",
        "-    Kurtosis is a statistical measure that describes the \"tailedness\" or shape\n",
        "     of a data distribution—specifically how heavy or light the tails are compared to a normal distribution.\n",
        "    "
      ],
      "metadata": {
        "id": "cBUYC-R2HHgz"
      }
    },
    {
      "cell_type": "markdown",
      "source": [
        "21. What is the purpose of covariance?\n",
        "-   The purpose of covariance is:-\n",
        "-   Direction of Relationship\n",
        "-   Understanding Association\n",
        "-   Foundation for Correlation"
      ],
      "metadata": {
        "id": "8BB1TFR5HT36"
      }
    },
    {
      "cell_type": "markdown",
      "source": [
        "22.  What does correlation measure in statistics?\n",
        "-    correlation measures the strength and direction of a linear relationship\n",
        "     between two variables.\n",
        "-    Correlation shows how closely two variables move together.\n",
        "-    It is a standardized version of covariance, which makes it easier to\n",
        "     interpret.\n",
        "-    It ranges from -1 to +1."
      ],
      "metadata": {
        "id": "Xbehb_9sHnkd"
      }
    },
    {
      "cell_type": "markdown",
      "source": [
        "23. What is the difference between covariance and correlation?\n",
        "-   Covariance:-\n",
        "-   Measures how two variables vary together.\n",
        "-   Not standardized — values range from -ive to +ive infinity.\n",
        "-   Product of the units of the two variables (e.g., kg·m)\n",
        "-   Hard to interpret without context\n",
        "-   Sensitive to the scale of the variables.\n",
        "-   Correlation:-\n",
        "-   Measures the strength and direction of a linear relationship between two\n",
        "    variables.\n",
        "-   Measures the strength and direction of a linear relationship between two\n",
        "    variables.\n",
        "-   Easy to interpret:- +1 = strong positive,0 = no correlation,-1 = strong\n",
        "    negative.\n",
        "-   Scale-independent.\n"
      ],
      "metadata": {
        "id": "CedF3yBXMlVN"
      }
    },
    {
      "cell_type": "markdown",
      "source": [
        "24. What are some real-world applications of statistics?\n",
        "-   Business & Marketing\n",
        "-   Healthcare & Medicine\n",
        "-   Finance & Economics\n",
        "-   Government & Policy\n",
        "-   Education\n",
        "-   Engineering & Manufacturing\n",
        "-   Tech & Data Science\n",
        "-   Sports & Entertainment\n",
        "-   Environmental Science\n",
        "-   Transportation & Logistics"
      ],
      "metadata": {
        "id": "O_AcTS7uN5RZ"
      }
    },
    {
      "cell_type": "markdown",
      "source": [
        "# Practical"
      ],
      "metadata": {
        "id": "UDkKEphIOkUE"
      }
    },
    {
      "cell_type": "code",
      "source": [
        "#1. How do you calculate the mean, median, and mode of a dataset?\n",
        "import statistics\n",
        "\n",
        "data = [4, 6, 8, 10]\n",
        "\n",
        "mean = statistics.mean(data)\n",
        "median = statistics.median(data)\n",
        "mode = statistics.mode(data)\n",
        "\n",
        "print(f\"Mean: {mean}, Median: {median}, Mode: {mode}\")\n"
      ],
      "metadata": {
        "colab": {
          "base_uri": "https://localhost:8080/"
        },
        "id": "EFJJMvjNOnNI",
        "outputId": "a00755f3-fb2c-4748-cc11-a26e0463ff11"
      },
      "execution_count": 15,
      "outputs": [
        {
          "output_type": "stream",
          "name": "stdout",
          "text": [
            "Mean: 7, Median: 7.0, Mode: 4\n"
          ]
        }
      ]
    },
    {
      "cell_type": "code",
      "source": [
        "#2.  Write a Python program to compute the variance and standard deviation of a dataset?\n",
        "import statistics\n",
        "\n",
        "data = [4, 6, 8, 10]\n",
        "\n",
        "variance = statistics.variance(data)\n",
        "std_deviation = statistics.stdev(data)\n",
        "\n",
        "print(f\"Variance: {variance}, Standard Deviation: {std_deviation}\")"
      ],
      "metadata": {
        "colab": {
          "base_uri": "https://localhost:8080/"
        },
        "id": "cWiQ_CJnPA47",
        "outputId": "e3d9b2a0-ce64-4158-f1bb-c43f960bc8df"
      },
      "execution_count": 16,
      "outputs": [
        {
          "output_type": "stream",
          "name": "stdout",
          "text": [
            "Variance: 6.666666666666667, Standard Deviation: 2.581988897471611\n"
          ]
        }
      ]
    },
    {
      "cell_type": "code",
      "source": [
        "#3.  Create a dataset and classify it into nominal, ordinal, interval, and ratio types?\n",
        "import pandas as pd\n",
        "import pandas as pd\n",
        "\n",
        "data = {\n",
        "    'Student_ID': ['001', '002', '003'],\n",
        "    'Name': ['Alice', 'Bob', 'Charlie'],\n",
        "    'Gender': ['Female', 'Male', 'Other'],  # Nominal\n",
        "    'Grade_Level': ['Freshman', 'Sophomore', 'Junior'],  # Ordinal\n",
        "    'Temperature': [37.0, 36.5, 36.8],  # Interval\n",
        "    'GPA': [3.5, 3.7, 2.9],  # Interval\n",
        "    'Age': [18, 19, 20],  # Ratio\n",
        "    'Height_cm': [165, 170, 180]  # Ratio\n",
        "}\n",
        "\n",
        "df = pd.DataFrame(data)\n",
        "print(df)\n",
        "\n"
      ],
      "metadata": {
        "colab": {
          "base_uri": "https://localhost:8080/"
        },
        "id": "dVYoeswRPSXw",
        "outputId": "3b5f607b-dc0c-417e-ffd1-d5b867d986e8"
      },
      "execution_count": 19,
      "outputs": [
        {
          "output_type": "stream",
          "name": "stdout",
          "text": [
            "  Student_ID     Name  Gender Grade_Level  Temperature  GPA  Age  Height_cm\n",
            "0        001    Alice  Female    Freshman         37.0  3.5   18        165\n",
            "1        002      Bob    Male   Sophomore         36.5  3.7   19        170\n",
            "2        003  Charlie   Other      Junior         36.8  2.9   20        180\n"
          ]
        }
      ]
    },
    {
      "cell_type": "code",
      "source": [
        "#4. Implement sampling techniques like random sampling and stratified sampling?\n",
        "\n",
        "import pandas as pd\n",
        "from sklearn.model_selection import train_test_split\n",
        "\n",
        "data = {'Student_ID': range(1, 21),\n",
        "    'Name': [f'Student{i}' for i in range(1, 21)],\n",
        "    'Gender': ['Male', 'Female'] * 10,\n",
        "    'Grade_Level': ['Freshman', 'Sophomore', 'Junior', 'Senior'] * 5\n",
        "        }\n",
        "\n",
        "df = pd.DataFrame(data)\n",
        "print(\"Original Dataset:\\n\", df.head())\n",
        "\n",
        "random_sample = df.sample(n=5, random_state=42)\n",
        "print(\"\\n Random Sample:\\n\", random_sample)\n",
        "\n",
        "stratified_sample, _ = train_test_split(\n",
        "    df,\n",
        "    test_size=0.7,\n",
        "    stratify=df['Gender'],\n",
        "    random_state=42\n",
        ")\n",
        "\n",
        "print(\"\\n Stratified Sample (by Gender):\\n\", stratified_sample)"
      ],
      "metadata": {
        "colab": {
          "base_uri": "https://localhost:8080/"
        },
        "id": "uOyUF56pRQYq",
        "outputId": "28e5840d-36b2-4eea-f67f-57776aae60b6"
      },
      "execution_count": 22,
      "outputs": [
        {
          "output_type": "stream",
          "name": "stdout",
          "text": [
            "Original Dataset:\n",
            "    Student_ID      Name  Gender Grade_Level\n",
            "0           1  Student1    Male    Freshman\n",
            "1           2  Student2  Female   Sophomore\n",
            "2           3  Student3    Male      Junior\n",
            "3           4  Student4  Female      Senior\n",
            "4           5  Student5    Male    Freshman\n",
            "\n",
            " Random Sample:\n",
            "     Student_ID       Name  Gender Grade_Level\n",
            "0            1   Student1    Male    Freshman\n",
            "17          18  Student18  Female   Sophomore\n",
            "15          16  Student16  Female      Senior\n",
            "1            2   Student2  Female   Sophomore\n",
            "8            9   Student9    Male    Freshman\n",
            "\n",
            " Stratified Sample (by Gender):\n",
            "     Student_ID       Name  Gender Grade_Level\n",
            "17          18  Student18  Female   Sophomore\n",
            "11          12  Student12  Female      Senior\n",
            "16          17  Student17    Male    Freshman\n",
            "0            1   Student1    Male    Freshman\n",
            "3            4   Student4  Female      Senior\n",
            "2            3   Student3    Male      Junior\n"
          ]
        }
      ]
    },
    {
      "cell_type": "code",
      "source": [
        "#5. Write a Python function to calculate the range of a dataset?\n",
        "def calculate_range(data):\n",
        "\n",
        "    if not data:\n",
        "        return None\n",
        "\n",
        "    return max(data) - min(data)\n",
        "\n",
        "dataset = [10, 25, 3, 8, 15]\n",
        "print(\"Range of dataset:\", calculate_range(dataset))\n"
      ],
      "metadata": {
        "colab": {
          "base_uri": "https://localhost:8080/"
        },
        "id": "xnmi41Z3S-0U",
        "outputId": "50aa6f8a-5062-495c-c0db-f3677d1e2e48"
      },
      "execution_count": 23,
      "outputs": [
        {
          "output_type": "stream",
          "name": "stdout",
          "text": [
            "Range of dataset: 22\n"
          ]
        }
      ]
    },
    {
      "cell_type": "code",
      "source": [
        "#6. Create a dataset and plot its histogram to visualize skewness?\n",
        "import pandas as pd\n",
        "import matplotlib.pyplot as plt\n",
        "\n",
        "data = np.random.exponential(scale=2, size=1000)\n",
        "\n",
        "plt.hist(data, bins=30, color='skyblue', edgecolor='black')\n",
        "plt.title('Histogram of Right-Skewed Data (Exponential Distribution)')\n",
        "plt.xlabel('Value')\n",
        "plt.ylabel('Frequency')\n",
        "plt.show()"
      ],
      "metadata": {
        "colab": {
          "base_uri": "https://localhost:8080/",
          "height": 472
        },
        "id": "eHkEKpleTd7N",
        "outputId": "d27c39c8-eabc-407c-d158-0dfd5e00a2d3"
      },
      "execution_count": 24,
      "outputs": [
        {
          "output_type": "display_data",
          "data": {
            "text/plain": [
              "<Figure size 640x480 with 1 Axes>"
            ],
            "image/png": "[encoded data removed]"
          },
          "metadata": {}
        }
      ]
    },
    {
      "cell_type": "code",
      "source": [
        "#7. Calculate skewness and kurtosis of a dataset using Python libraries?\n",
        "\n",
        "import numpy as np\n",
        "from scipy.stats import skew, kurtosis\n",
        "\n",
        "data = np.random.exponential(scale=2, size=1000)\n",
        "\n",
        "data_skewness = skew(data)\n",
        "\n",
        "data_kurtosis = kurtosis(data)\n",
        "\n",
        "print(f\"Skewness: {data_skewness}\")\n",
        "print(f\"Kurtosis: {data_kurtosis}\")"
      ],
      "metadata": {
        "colab": {
          "base_uri": "https://localhost:8080/"
        },
        "id": "oAvW5FBiUCWe",
        "outputId": "901c0cad-e830-4c58-da77-e3546cce2faa"
      },
      "execution_count": 25,
      "outputs": [
        {
          "output_type": "stream",
          "name": "stdout",
          "text": [
            "Skewness: 2.2822538109009796\n",
            "Kurtosis: 9.058704141390821\n"
          ]
        }
      ]
    },
    {
      "cell_type": "code",
      "source": [
        "#8. Generate a dataset and demonstrate positive and negative skewness?\n",
        "import numpy as np\n",
        "import matplotlib.pyplot as plt\n",
        "from scipy.stats import skew\n",
        "\n",
        "positive_skew_data = np.random.exponential(scale=2, size=1000)\n",
        "\n",
        "negative_skew_data = -np.random.exponential(scale=2, size=1000)\n",
        "\n",
        "fig, axs = plt.subplots(1, 2, figsize=(12, 5))\n",
        "\n",
        "axs[0].hist(positive_skew_data, bins=30, color='skyblue', edgecolor='black')\n",
        "axs[0].set_title(f'Positive Skew (Skewness={skew(positive_skew_data):.2f})')\n",
        "\n",
        "axs[1].hist(negative_skew_data, bins=30, color='salmon', edgecolor='black')\n",
        "axs[1].set_title(f'Negative Skew (Skewness={skew(negative_skew_data):.2f})')\n",
        "\n",
        "for ax in axs:\n",
        "    ax.set_xlabel('Value')\n",
        "    ax.set_ylabel('Frequency')\n",
        "\n",
        "plt.tight_layout()\n",
        "plt.show()\n",
        "\n"
      ],
      "metadata": {
        "colab": {
          "base_uri": "https://localhost:8080/",
          "height": 507
        },
        "id": "FBCn1SteUWxb",
        "outputId": "7db3bd26-a364-4ed1-cbf3-937a307b779f"
      },
      "execution_count": 26,
      "outputs": [
        {
          "output_type": "display_data",
          "data": {
            "text/plain": [
              "<Figure size 1200x500 with 2 Axes>"
            ],
            "image/png": "[encoded data removed]"
          },
          "metadata": {}
        }
      ]
    },
    {
      "cell_type": "code",
      "source": [
        "#9. Write a Python script to calculate covariance between two datasets?\n",
        "import numpy as np\n",
        "\n",
        "x = np.array([2, 4, 6, 8, 10])\n",
        "y = np.array([1, 3, 5, 7, 9])\n",
        "\n",
        "cov_matrix = np.cov(x, y)\n",
        "\n",
        "\n",
        "cov_xy = cov_matrix[0, 1]\n",
        "\n",
        "print(f\"Covariance between x and y: {cov_xy}\")\n"
      ],
      "metadata": {
        "colab": {
          "base_uri": "https://localhost:8080/"
        },
        "id": "Kt81Z-28UpD5",
        "outputId": "7e25261a-3dee-492b-f33a-1f5936a8fdde"
      },
      "execution_count": 28,
      "outputs": [
        {
          "output_type": "stream",
          "name": "stdout",
          "text": [
            "Covariance between x and y: 10.0\n"
          ]
        }
      ]
    },
    {
      "cell_type": "code",
      "source": [
        "#10. Write a Python script to calculate the correlation coefficient between two datasets?\n",
        "import numpy as np\n",
        "\n",
        "x = np.array([2, 4, 6, 8, 10])\n",
        "y = np.array([1, 3, 5, 7, 9])\n",
        "\n",
        "corr_matrix = np.corrcoef(x, y)\n",
        "\n",
        "corr_xy = corr_matrix[0, 1]\n",
        "\n",
        "print(f\"Correlation coefficient between x and y: {corr_xy}\")\n"
      ],
      "metadata": {
        "colab": {
          "base_uri": "https://localhost:8080/"
        },
        "id": "AfuNA-wnVAnX",
        "outputId": "ded93ab3-cf1d-4b92-8675-6593c1894b74"
      },
      "execution_count": 29,
      "outputs": [
        {
          "output_type": "stream",
          "name": "stdout",
          "text": [
            "Correlation coefficient between x and y: 0.9999999999999999\n"
          ]
        }
      ]
    },
    {
      "cell_type": "code",
      "source": [
        "#11. Create a scatter plot to visualize the relationship between two variables?\n",
        "import numpy as np\n",
        "import matplotlib.pyplot as plt\n",
        "\n",
        "x = np.array([2, 4, 6, 8, 10])\n",
        "y = np.array([1, 3, 5, 7, 9])\n",
        "\n",
        "plt.scatter(x, y, color='blue', marker='o')\n",
        "\n",
        "plt.title('Scatter Plot of Two Variables')\n",
        "plt.xlabel('Variable X')\n",
        "plt.ylabel('Variable Y')\n",
        "\n",
        "plt.show()\n"
      ],
      "metadata": {
        "colab": {
          "base_uri": "https://localhost:8080/",
          "height": 472
        },
        "id": "nqkJek8AVYI3",
        "outputId": "c1fbf98b-95bc-4f9f-be7a-9568299e6298"
      },
      "execution_count": 30,
      "outputs": [
        {
          "output_type": "display_data",
          "data": {
            "text/plain": [
              "<Figure size 640x480 with 1 Axes>"
            ],
            "image/png": "[encoded data removed]"
          },
          "metadata": {}
        }
      ]
    },
    {
      "cell_type": "code",
      "source": [
        "#12. Implement and compare simple random sampling and systematic sampling?\n",
        "import numpy as np\n",
        "\n",
        "\n",
        "population = np.arange(1, 51)\n",
        "sample_size = 10\n",
        "\n",
        "simple_random_sample = np.random.choice(population, size=sample_size, replace=False)\n",
        "\n",
        "k = len(population) // sample_size\n",
        "start = np.random.randint(0, k)\n",
        "systematic_sample = population[start::k][:sample_size]\n",
        "\n",
        "print(\"Population:\", population)\n",
        "print(\"Simple Random Sample:\", simple_random_sample)\n",
        "print(\"Systematic Sample:\", systematic_sample)\n"
      ],
      "metadata": {
        "colab": {
          "base_uri": "https://localhost:8080/"
        },
        "id": "Qf2MyHBBVoyh",
        "outputId": "fc3a6606-3655-4a7b-9448-7dea3cf68526"
      },
      "execution_count": 32,
      "outputs": [
        {
          "output_type": "stream",
          "name": "stdout",
          "text": [
            "Population: [ 1  2  3  4  5  6  7  8  9 10 11 12 13 14 15 16 17 18 19 20 21 22 23 24\n",
            " 25 26 27 28 29 30 31 32 33 34 35 36 37 38 39 40 41 42 43 44 45 46 47 48\n",
            " 49 50]\n",
            "Simple Random Sample: [33 12 49 15 50 36 39 38 16  2]\n",
            "Systematic Sample: [ 5 10 15 20 25 30 35 40 45 50]\n"
          ]
        }
      ]
    },
    {
      "cell_type": "code",
      "source": [
        "#13. Calculate the mean, median, and mode of grouped data?\n",
        "import numpy as np\n",
        "\n",
        "\n",
        "class_intervals = [(10,20), (20,30), (30,40), (40,50), (50,60)]\n",
        "frequencies = np.array([5, 8, 12, 7, 3])\n",
        "\n",
        "midpoints = np.array([(low + high)/2 for low, high in class_intervals])\n",
        "\n",
        "N = np.sum(frequencies)\n",
        "\n",
        "mean = np.sum(frequencies * midpoints) / N\n",
        "\n",
        "cum_freq = np.cumsum(frequencies)\n",
        "\n",
        "median_class_index = np.where(cum_freq >= N/2)[0][0]\n",
        "L = class_intervals[median_class_index][0]\n",
        "F = cum_freq[median_class_index - 1] if median_class_index > 0 else 0\n",
        "f_m = frequencies[median_class_index]\n",
        "h = class_intervals[0][1] - class_intervals[0][0]\n",
        "\n",
        "median = L + ((N/2 - F) / f_m) * h\n",
        "\n",
        "\n",
        "modal_class_index = np.argmax(frequencies)\n",
        "L_mode = class_intervals[modal_class_index][0]\n",
        "f1 = frequencies[modal_class_index]\n",
        "f0 = frequencies[modal_class_index - 1] if modal_class_index > 0 else 0\n",
        "f2 = frequencies[modal_class_index + 1] if modal_class_index < len(frequencies) - 1 else 0\n",
        "\n",
        "mode = L_mode + ((f1 - f0) / (2*f1 - f0 - f2)) * h\n",
        "\n",
        "print(f\"Mean: {mean:.2f}\")\n",
        "print(f\"Median: {median:.2f}\")\n",
        "print(f\"Mode: {mode:.2f}\")\n"
      ],
      "metadata": {
        "colab": {
          "base_uri": "https://localhost:8080/"
        },
        "id": "xIitYNi_WMoQ",
        "outputId": "440eda39-da8d-4dca-e3a2-1ef2fe3c8e09"
      },
      "execution_count": 34,
      "outputs": [
        {
          "output_type": "stream",
          "name": "stdout",
          "text": [
            "Mean: 33.57\n",
            "Median: 33.75\n",
            "Mode: 34.44\n"
          ]
        }
      ]
    },
    {
      "cell_type": "code",
      "source": [
        "#14. Simulate data using Python and calculate its central tendency and dispersion?\n",
        "import numpy as np\n",
        "import scipy.stats as stats\n",
        "\n",
        "data = np.random.normal(loc=50, scale=10, size=1000)\n",
        "\n",
        "mean = np.mean(data)\n",
        "median = np.median(data)\n",
        "mode = stats.mode(data, keepdims=True).mode[0]\n",
        "\n",
        "\n",
        "variance = np.var(data)\n",
        "std_dev = np.std(data)\n",
        "data_range = np.max(data) - np.min(data)\n",
        "iqr = np.percentile(data, 75) - np.percentile(data, 25)\n",
        "\n",
        "print(f\"Mean: {mean:.2f}\")\n",
        "print(f\"Median: {median:.2f}\")\n",
        "print(f\"Mode: {mode:.2f}\")\n",
        "print(f\"Variance: {variance:.2f}\")\n",
        "print(f\"Standard Deviation: {std_dev:.2f}\")\n",
        "print(f\"Range: {data_range:.2f}\")\n",
        "print(f\"Interquartile Range (IQR): {iqr:.2f}\")\n"
      ],
      "metadata": {
        "colab": {
          "base_uri": "https://localhost:8080/"
        },
        "id": "VDyG5uw_XOxt",
        "outputId": "d0b4b5a2-17da-44e3-ffca-e28c251d5eba"
      },
      "execution_count": 35,
      "outputs": [
        {
          "output_type": "stream",
          "name": "stdout",
          "text": [
            "Mean: 50.11\n",
            "Median: 50.08\n",
            "Mode: 14.12\n",
            "Variance: 100.09\n",
            "Standard Deviation: 10.00\n",
            "Range: 65.13\n",
            "Interquartile Range (IQR): 14.03\n"
          ]
        }
      ]
    },
    {
      "cell_type": "code",
      "source": [
        "#15. Use NumPy or pandas to summarize a dataset’s descriptive statistics?\n",
        "import pandas as pd\n",
        "import numpy as np\n",
        "\n",
        "data = np.random.normal(loc=50, scale=10, size=1000)\n",
        "\n",
        "data_series = pd.Series(data)\n",
        "\n",
        "summary = data_series.describe()\n",
        "print(summary)\n"
      ],
      "metadata": {
        "colab": {
          "base_uri": "https://localhost:8080/"
        },
        "id": "DJswqSUwXltu",
        "outputId": "a9fa0404-4c7b-4860-ebb5-fc333a5791bf"
      },
      "execution_count": 36,
      "outputs": [
        {
          "output_type": "stream",
          "name": "stdout",
          "text": [
            "count    1000.000000\n",
            "mean       50.249302\n",
            "std        10.092984\n",
            "min         3.697708\n",
            "25%        43.249778\n",
            "50%        50.218786\n",
            "75%        56.897654\n",
            "max        80.969186\n",
            "dtype: float64\n"
          ]
        }
      ]
    },
    {
      "cell_type": "code",
      "source": [
        "#16. Plot a boxplot to understand the spread and identify outliers?\n",
        "import numpy as np\n",
        "import matplotlib.pyplot as plt\n",
        "import seaborn as sns\n",
        "\n",
        "\n",
        "np.random.seed(42)\n",
        "data = np.random.normal(loc=50, scale=10, size=1000)\n",
        "outliers = np.array([100, 110, 115])\n",
        "data_with_outliers = np.concatenate([data, outliers])\n",
        "\n",
        "plt.figure(figsize=(8, 6))\n",
        "sns.boxplot(x=data_with_outliers, color='lightblue')\n",
        "plt.title('Boxplot to Visualize Spread and Outliers')\n",
        "plt.xlabel('Values')\n",
        "plt.show()\n"
      ],
      "metadata": {
        "colab": {
          "base_uri": "https://localhost:8080/",
          "height": 564
        },
        "id": "IfzrS4lYYBMf",
        "outputId": "999f9c08-2fc9-42eb-eebf-e802911cb4d2"
      },
      "execution_count": 37,
      "outputs": [
        {
          "output_type": "display_data",
          "data": {
            "text/plain": [
              "<Figure size 800x600 with 1 Axes>"
            ],
            "image/png": "[encoded data removed]"
          },
          "metadata": {}
        }
      ]
    },
    {
      "cell_type": "code",
      "source": [
        "#17.  Calculate the interquartile range (IQR) of a dataset?\n",
        "import numpy as np\n",
        "\n",
        "\n",
        "data = np.array([10, 12, 14, 15, 18, 19, 22, 24, 30, 35])\n",
        "\n",
        "\n",
        "Q1 = np.percentile(data, 25)\n",
        "Q3 = np.percentile(data, 75)\n",
        "\n",
        "IQR = Q3 - Q1\n",
        "\n",
        "print(f\"Q1 (25th percentile): {Q1}\")\n",
        "print(f\"Q3 (75th percentile): {Q3}\")\n",
        "print(f\"Interquartile Range (IQR): {IQR}\")\n"
      ],
      "metadata": {
        "colab": {
          "base_uri": "https://localhost:8080/"
        },
        "id": "zHAyjbcZY1b9",
        "outputId": "b2b61509-8892-48ae-f89f-ae04ecc14a7b"
      },
      "execution_count": 38,
      "outputs": [
        {
          "output_type": "stream",
          "name": "stdout",
          "text": [
            "Q1 (25th percentile): 14.25\n",
            "Q3 (75th percentile): 23.5\n",
            "Interquartile Range (IQR): 9.25\n"
          ]
        }
      ]
    },
    {
      "cell_type": "code",
      "source": [
        "#18. Implement Z-score normalization and explain its significance?\n",
        "import numpy as np\n",
        "\n",
        "data = np.array([10, 15, 20, 25, 30])\n",
        "\n",
        "mean = np.mean(data)\n",
        "std_dev = np.std(data)\n",
        "\n",
        "z_scores = (data - mean) / std_dev\n",
        "\n",
        "print(\"Original data:\", data)\n",
        "print(\"Mean:\", mean)\n",
        "print(\"Standard Deviation:\", std_dev)\n",
        "print(\"Z-score normalized data:\", z_scores)\n"
      ],
      "metadata": {
        "colab": {
          "base_uri": "https://localhost:8080/"
        },
        "id": "4kUYfFEeZRH0",
        "outputId": "86aa9422-7793-4770-e0b1-cf2113804373"
      },
      "execution_count": 39,
      "outputs": [
        {
          "output_type": "stream",
          "name": "stdout",
          "text": [
            "Original data: [10 15 20 25 30]\n",
            "Mean: 20.0\n",
            "Standard Deviation: 7.0710678118654755\n",
            "Z-score normalized data: [-1.41421356 -0.70710678  0.          0.70710678  1.41421356]\n"
          ]
        }
      ]
    },
    {
      "cell_type": "code",
      "source": [
        "#19.  Compare two datasets using their standard deviations?\n",
        "import numpy as np\n",
        "\n",
        "\n",
        "data1 = np.array([10, 12, 14, 16, 18])\n",
        "data2 = np.array([8, 20, 14, 6, 22])\n",
        "\n",
        "std_dev1 = np.std(data1)\n",
        "std_dev2 = np.std(data2)\n",
        "\n",
        "print(f\"Standard Deviation of dataset 1: {std_dev1:.2f}\")\n",
        "print(f\"Standard Deviation of dataset 2: {std_dev2:.2f}\")\n",
        "\n",
        "if std_dev1 > std_dev2:\n",
        "    print(\"Dataset 1 has greater variability.\")\n",
        "elif std_dev1 < std_dev2:\n",
        "    print(\"Dataset 2 has greater variability.\")\n",
        "else:\n",
        "    print(\"Both datasets have equal variability.\")\n"
      ],
      "metadata": {
        "colab": {
          "base_uri": "https://localhost:8080/"
        },
        "id": "WNWmfpFcZtVN",
        "outputId": "7e789f81-4a26-4868-fa8b-fa21d6e2b9f6"
      },
      "execution_count": 40,
      "outputs": [
        {
          "output_type": "stream",
          "name": "stdout",
          "text": [
            "Standard Deviation of dataset 1: 2.83\n",
            "Standard Deviation of dataset 2: 6.32\n",
            "Dataset 2 has greater variability.\n"
          ]
        }
      ]
    },
    {
      "cell_type": "code",
      "source": [
        "#20. Write a Python program to visualize covariance using a heatmap?\n",
        "import numpy as np\n",
        "import pandas as pd\n",
        "import seaborn as sns\n",
        "import matplotlib.pyplot as plt\n",
        "\n",
        "np.random.seed(0)\n",
        "data = {\n",
        "    'X': np.random.normal(50, 10, 100),\n",
        "    'Y': np.random.normal(30, 5, 100),\n",
        "    'Z': np.random.normal(20, 2, 100)\n",
        "}\n",
        "df = pd.DataFrame(data)\n",
        "\n",
        "cov_matrix = df.cov()\n",
        "plt.figure(figsize=(8, 6))\n",
        "sns.heatmap(cov_matrix, annot=True, cmap='coolwarm', fmt=\".2f\")\n",
        "plt.title('Covariance Matrix Heatmap')\n",
        "plt.show()\n"
      ],
      "metadata": {
        "colab": {
          "base_uri": "https://localhost:8080/",
          "height": 545
        },
        "id": "JzeGe5xSZ72Y",
        "outputId": "84255aba-bfdd-436d-efc6-fb77352c77b2"
      },
      "execution_count": 41,
      "outputs": [
        {
          "output_type": "display_data",
          "data": {
            "text/plain": [
              "<Figure size 800x600 with 2 Axes>"
            ],
            "image/png": "[encoded data removed]"
          },
          "metadata": {}
        }
      ]
    },
    {
      "cell_type": "code",
      "source": [
        "#21. Use seaborn to create a correlation matrix for a dataset?\n",
        "import numpy as np\n",
        "import pandas as pd\n",
        "import seaborn as sns\n",
        "import matplotlib.pyplot as plt\n",
        "\n",
        "\n",
        "np.random.seed(1)\n",
        "data = {\n",
        "    'Math': np.random.normal(70, 10, 100),\n",
        "    'Science': np.random.normal(65, 12, 100),\n",
        "    'English': np.random.normal(75, 8, 100),\n",
        "    'History': np.random.normal(60, 15, 100)\n",
        "}\n",
        "df = pd.DataFrame(data)\n",
        "\n",
        "corr_matrix = df.corr()\n",
        "\n",
        "plt.figure(figsize=(8, 6))\n",
        "sns.heatmap(corr_matrix, annot=True, cmap='coolwarm', fmt=\".2f\", linewidths=0.5)\n",
        "plt.title('Correlation Matrix Heatmap')\n",
        "plt.show()\n"
      ],
      "metadata": {
        "colab": {
          "base_uri": "https://localhost:8080/",
          "height": 545
        },
        "id": "nw5VqGiNaVdS",
        "outputId": "73e43811-b664-432e-afbb-5d5ae45d4c2a"
      },
      "execution_count": 42,
      "outputs": [
        {
          "output_type": "display_data",
          "data": {
            "text/plain": [
              "<Figure size 800x600 with 2 Axes>"
            ],
            "image/png": "[encoded data removed]"
          },
          "metadata": {}
        }
      ]
    },
    {
      "cell_type": "code",
      "source": [
        "#22. Generate a dataset and implement both variance and standard deviation computations?\n",
        "import numpy as np\n",
        "\n",
        "np.random.seed(42)\n",
        "data = np.random.normal(loc=50, scale=10, size=100)\n",
        "\n",
        "variance_np = np.var(data)\n",
        "std_dev_np = np.std(data)\n",
        "\n",
        "mean = np.mean(data)\n",
        "squared_diffs = (data - mean) ** 2\n",
        "variance_manual = np.sum(squared_diffs) / len(data)\n",
        "std_dev_manual = variance_manual ** 0.5\n",
        "\n",
        "print(f\"Mean: {mean:.2f}\")\n",
        "print(f\"NumPy Variance: {variance_np:.2f}\")\n",
        "print(f\"Manual Variance: {variance_manual:.2f}\")\n",
        "print(f\"NumPy Std Dev: {std_dev_np:.2f}\")\n",
        "print(f\"Manual Std Dev: {std_dev_manual:.2f}\")\n"
      ],
      "metadata": {
        "colab": {
          "base_uri": "https://localhost:8080/"
        },
        "id": "ZrpK5qBOauz3",
        "outputId": "49327647-aec0-45d2-ca20-7b38dd4d95c6"
      },
      "execution_count": 43,
      "outputs": [
        {
          "output_type": "stream",
          "name": "stdout",
          "text": [
            "Mean: 48.96\n",
            "NumPy Variance: 81.65\n",
            "Manual Variance: 81.65\n",
            "NumPy Std Dev: 9.04\n",
            "Manual Std Dev: 9.04\n"
          ]
        }
      ]
    },
    {
      "cell_type": "code",
      "source": [
        "#23. Visualize skewness and kurtosis using Python libraries like matplotlib or seaborn?\n",
        "import numpy as np\n",
        "import matplotlib.pyplot as plt\n",
        "import seaborn as sns\n",
        "from scipy.stats import skew, kurtosis\n",
        "\n",
        "np.random.seed(0)\n",
        "data = np.random.gamma(shape=2.0, scale=2.0, size=1000)\n",
        "\n",
        "data_skewness = skew(data)\n",
        "data_kurtosis = kurtosis(data)\n",
        "\n",
        "plt.figure(figsize=(10, 6))\n",
        "sns.histplot(data, bins=30, kde=True, color='skyblue', edgecolor='black')\n",
        "plt.title(f\"Histogram with KDE\\nSkewness: {data_skewness:.2f} | Kurtosis: {data_kurtosis:.2f}\")\n",
        "plt.xlabel('Value')\n",
        "plt.ylabel('Frequency')\n",
        "plt.grid(True)\n",
        "plt.show()\n"
      ],
      "metadata": {
        "colab": {
          "base_uri": "https://localhost:8080/",
          "height": 585
        },
        "id": "h-38X1FybFs5",
        "outputId": "7c8591c2-2ea1-4774-ca80-edfd2386eef7"
      },
      "execution_count": 44,
      "outputs": [
        {
          "output_type": "display_data",
          "data": {
            "text/plain": [
              "<Figure size 1000x600 with 1 Axes>"
            ],
            "image/png": "[encoded data removed]"
          },
          "metadata": {}
        }
      ]
    },
    {
      "cell_type": "code",
      "source": [
        "#24. Implement the Pearson and Spearman correlation coefficients for a dataset?\n",
        "\n",
        "import numpy as np\n",
        "import pandas as pd\n",
        "from scipy.stats import pearsonr, spearmanr\n",
        "\n",
        "np.random.seed(42)\n",
        "x = np.random.normal(50, 10, 100)\n",
        "y = 2 * x + np.random.normal(0, 10, 100)\n",
        "pearson_corr, _ = pearsonr(x, y)\n",
        "\n",
        "spearman_corr, _ = spearmanr(x, y)\n",
        "\n",
        "print(f\"Pearson Correlation Coefficient: {pearson_corr:.3f}\")\n",
        "print(f\"Spearman Correlation Coefficient: {spearman_corr:.3f}\")\n"
      ],
      "metadata": {
        "colab": {
          "base_uri": "https://localhost:8080/"
        },
        "id": "4dbkRjNqbc1M",
        "outputId": "7f4be3a1-1dda-4246-c7ba-ea86041fd275"
      },
      "execution_count": 45,
      "outputs": [
        {
          "output_type": "stream",
          "name": "stdout",
          "text": [
            "Pearson Correlation Coefficient: 0.872\n",
            "Spearman Correlation Coefficient: 0.869\n"
          ]
        }
      ]
    }
  ]
}